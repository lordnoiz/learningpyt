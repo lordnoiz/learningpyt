{
 "cells": [
  {
   "cell_type": "code",
   "execution_count": 1,
   "metadata": {},
   "outputs": [],
   "source": [
    "import math\n",
    "\n",
    "def travel_cost(flight, hotel, car, days):     #cost of return flight, hotel per day, weekly car rental cost, and travel days#\n",
    "    d_car = math.ceil(days/7)                  #round up the travelling days into number of weeks#\n",
    "    ttc = flight + (hotel*days) + (car*d_car)  #total travel cost#\n",
    "    return ttc"
   ]
  },
  {
   "cell_type": "code",
   "execution_count": 2,
   "metadata": {},
   "outputs": [
    {
     "name": "stdout",
     "output_type": "stream",
     "text": [
      "Paris: 1800, London: 1750, Dubai: 1220, Mumbai: 1120\n"
     ]
    }
   ],
   "source": [
    "import math\n",
    "\n",
    "def travel_cost(flight, hotel, car, days):     #cost of return flight, hotel per day, weekly car rental cost, and travel days#\n",
    "    d_car = math.ceil(days/7)                  #round up the travelling days into number of weeks#\n",
    "    ttc = flight + (hotel*days) + (car*d_car)  #total travel cost#\n",
    "    return ttc\n",
    "\n",
    "duration = 30        #travel duration in days#\n",
    "\n",
    "ttc1 = travel_cost(200,20,200, duration)\n",
    "ttc2 = travel_cost(250,30,120, duration)\n",
    "ttc3 = travel_cost(370,15,80, duration)\n",
    "ttc4 = travel_cost(470,10,70, duration)\n",
    "\n",
    "print(('Paris: {}, London: {}, Dubai: {}, Mumbai: {}').format(ttc1,ttc2,ttc3,ttc4))"
   ]
  },
  {
   "cell_type": "code",
   "execution_count": 3,
   "metadata": {},
   "outputs": [
    {
     "name": "stdout",
     "output_type": "stream",
     "text": [
      "{'Paris': 'n/a', 'London': 'n/a', 'Dubai': 835, 'Mumbai': 830}\n"
     ]
    }
   ],
   "source": [
    "import math\n",
    "\n",
    "def travel_cost(flight, hotel, car, days):     #cost of return flight, hotel per day, weekly car rental cost, and travel days#\n",
    "    d_car = math.ceil(days/7)                  #round up the travelling days into number of weeks#\n",
    "    ttc = flight + (hotel*days) + (car*d_car)  #total travel cost#\n",
    "    return ttc\n",
    "\n",
    "\n",
    "budget = 1000        #budget of this travel#\n",
    "\n",
    "duration = 15        #travel duration in days#\n",
    "\n",
    "ttc1 = travel_cost(200,20,200, duration)\n",
    "ttc2 = travel_cost(250,30,120, duration)\n",
    "ttc3 = travel_cost(370,15,80, duration)\n",
    "ttc4 = travel_cost(470,10,70, duration)\n",
    "\n",
    "amount_tc = [ttc1,ttc2,ttc3,ttc4]\n",
    "destination = ['Paris', 'London', 'Dubai', 'Mumbai']\n",
    "avaliable_atc = []\n",
    "\n",
    "for atc_v in amount_tc:                             #only showing the the amount of the trip that is within budget#\n",
    "    if atc_v <= budget:\n",
    "        avaliable_atc.append(atc_v)\n",
    "    else:\n",
    "        avaliable_atc.append('n/a')\n",
    "\n",
    "dict_travel = dict(zip(destination, avaliable_atc))\n",
    "print(str(dict_travel))"
   ]
  },
  {
   "cell_type": "code",
   "execution_count": 4,
   "metadata": {},
   "outputs": [
    {
     "name": "stdout",
     "output_type": "stream",
     "text": [
      "The cost of travelling to Paris for 1 days is USD 420.\n",
      "The cost of travelling to Paris for 2 days is USD 440.\n",
      "The cost of travelling to Paris for 3 days is USD 460.\n",
      "The cost of travelling to Paris for 4 days is USD 480.\n",
      "The cost of travelling to Paris for 5 days is USD 500.\n",
      "The cost of travelling to Paris for 6 days is USD 520.\n",
      "The cost of travelling to Paris for 7 days is USD 540.\n",
      "The cost of travelling to Paris for 8 days is USD 760.\n",
      "The cost of travelling to Paris for 9 days is USD 780.\n",
      "The cost of travelling to Paris for 10 days is USD 800.\n",
      "The cost of travelling to Paris for 11 days is USD 820.\n",
      "The cost of travelling to Paris for 12 days is USD 840.\n",
      "The cost of travelling to Paris for 13 days is USD 860.\n",
      "The cost of travelling to Paris for 14 days is USD 880.\n",
      "\n",
      "\n",
      "With our budget of: USD 1000\n",
      "Maxium days spend in Paris: 14 days\n",
      "Total travel cost: USD 880\n"
     ]
    }
   ],
   "source": [
    "import math\n",
    "\n",
    "def travel_cost(flight, hotel, car, days):     #cost of return flight, hotel per day, weekly car rental cost, and travel days#\n",
    "    d_car = math.ceil(days/7)                  #round up the travelling days into number of weeks#\n",
    "    ttc = flight + (hotel*days) + (car*d_car)  #total travel cost#\n",
    "    return ttc\n",
    "\n",
    "\n",
    "budget = 1000        #budget of this travel#\n",
    "this_destination = 'Paris'\n",
    "days_list = []\n",
    "amount_list = []\n",
    "\n",
    "for d in range(1,30):\n",
    "    Paris_cost = travel_cost(200,20,200, d)\n",
    "    if Paris_cost <= budget:\n",
    "        print(('The cost of travelling to {} for {} days is USD {}.').format(this_destination,d,Paris_cost))\n",
    "        days_list.append(d)\n",
    "        amount_list.append(Paris_cost)\n",
    "    else:\n",
    "        Paris_cost >= budget\n",
    "        break\n",
    "        \n",
    "print('\\n')\n",
    "print(('With our budget of: USD {}').format(budget))\n",
    "print(('Maxium days spend in {}: {} days').format(this_destination,days_list[-1]))\n",
    "print(('Total travel cost: USD {}').format(amount_list[-1]))"
   ]
  },
  {
   "cell_type": "code",
   "execution_count": 1,
   "metadata": {},
   "outputs": [
    {
     "name": "stdout",
     "output_type": "stream",
     "text": [
      "\n",
      "\n",
      "With our budget of: USD 1500\n",
      "Maxium days spend in Paris: 25 days\n",
      "Total travel cost: USD 1500\n",
      "\n",
      "\n",
      "With our budget of: USD 1500\n",
      "Maxium days spend in London: 25 days\n",
      "Total travel cost: USD 1480\n",
      "\n",
      "\n",
      "With our budget of: USD 1500\n",
      "Maxium days spend in Dubai: 42 days\n",
      "Total travel cost: USD 1480\n",
      "\n",
      "\n",
      "With our budget of: USD 1500\n",
      "Maxium days spend in Mumbai: 49 days\n",
      "Total travel cost: USD 1430\n"
     ]
    }
   ],
   "source": [
    "import math\n",
    "\n",
    "def travel_cost(flight, hotel, car, days):     #cost of return flight, hotel per day, weekly car rental cost, and travel days#\n",
    "    d_car = math.ceil(days/7)                  #round up the travelling days into number of weeks#\n",
    "    ttc = flight + (hotel*days) + (car*d_car)  #total travel cost#\n",
    "    return ttc\n",
    "\n",
    "\n",
    "budget = 1500        #budget of this travel#\n",
    "this_destination = '----'\n",
    "days_list = []\n",
    "amount_list = []\n",
    "\n",
    "for d in range(1,61):\n",
    "    Paris_cost = travel_cost(200,20,200, d)         #calculate travel cost to Paris# \n",
    "    if Paris_cost <= budget:\n",
    "        days_list.append(d)\n",
    "        amount_list.append(Paris_cost)\n",
    "    else:\n",
    "        Paris_cost >= budget\n",
    "        break                                       #the loop break when out of budget#           \n",
    "        \n",
    "print('\\n')\n",
    "print(('With our budget of: USD {}').format(budget))\n",
    "print(('Maxium days spend in {}: {} days').format('Paris',days_list[-1]))\n",
    "print(('Total travel cost: USD {}').format(amount_list[-1]))\n",
    "\n",
    "days_list.clear()                                   #clearing out the list#\n",
    "amount_list.clear()\n",
    "for d in range(1,61):\n",
    "    London_cost = travel_cost(250,30,120, d)        #calculate travel cost to London# \n",
    "    if London_cost <= budget:\n",
    "        days_list.append(d)\n",
    "        amount_list.append(London_cost)\n",
    "    else:\n",
    "        London_cost >= budget\n",
    "        break\n",
    "print('\\n')\n",
    "print(('With our budget of: USD {}').format(budget))                                  #printing result#\n",
    "print(('Maxium days spend in {}: {} days').format('London',days_list[-1]))\n",
    "print(('Total travel cost: USD {}').format(amount_list[-1]))\n",
    "\n",
    "days_list.clear()                                     #clearing out the list#\n",
    "amount_list.clear()\n",
    "for d in range(1,61):\n",
    "    Dubai_cost = travel_cost(370,15,80, d)           #calculate travel cost to Dubai# \n",
    "    if Dubai_cost <= budget:\n",
    "        days_list.append(d)\n",
    "        amount_list.append(Dubai_cost)\n",
    "    else:\n",
    "        Dubai_cost >= budget\n",
    "        break\n",
    "print('\\n')\n",
    "print(('With our budget of: USD {}').format(budget))                                       #printing result#\n",
    "print(('Maxium days spend in {}: {} days').format('Dubai',days_list[-1]))\n",
    "print(('Total travel cost: USD {}').format(amount_list[-1]))\n",
    "\n",
    "days_list.clear()                                       #clearing out the list#\n",
    "amount_list.clear()\n",
    "for d in range(1,61):\n",
    "    Mumbai_cost = travel_cost(450,10,70, d)             #calculate travel cost to Mumbai# \n",
    "    if Mumbai_cost <= budget:\n",
    "        days_list.append(d)\n",
    "        amount_list.append(Mumbai_cost)\n",
    "    else:\n",
    "        Mumbai_cost >= budget\n",
    "        break\n",
    "print('\\n')\n",
    "print(('With our budget of: USD {}').format(budget))                                         #printing result#\n",
    "print(('Maxium days spend in {}: {} days').format('Mumbai',days_list[-1]))\n",
    "print(('Total travel cost: USD {}').format(amount_list[-1]))"
   ]
  },
  {
   "cell_type": "code",
   "execution_count": null,
   "metadata": {},
   "outputs": [],
   "source": []
  }
 ],
 "metadata": {
  "kernelspec": {
   "display_name": "Python 3",
   "language": "python",
   "name": "python3"
  },
  "language_info": {
   "codemirror_mode": {
    "name": "ipython",
    "version": 3
   },
   "file_extension": ".py",
   "mimetype": "text/x-python",
   "name": "python",
   "nbconvert_exporter": "python",
   "pygments_lexer": "ipython3",
   "version": "3.8.5"
  }
 },
 "nbformat": 4,
 "nbformat_minor": 4
}
